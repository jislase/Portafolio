{
 "cells": [
  {
   "cell_type": "markdown",
   "metadata": {},
   "source": [
    "# Titanic Challenge"
   ]
  },
  {
   "cell_type": "markdown",
   "metadata": {},
   "source": [
    "Resolveremos el ejercicio que se puede encontrar en:\n",
    "\n",
    "https://www.kaggle.com/c/titanic-gettingStarted\n",
    "\n",
    "A continuacion agregare la descripcion de las variables. Esta informacion se puede encontrar en la pagina previamente mencionada. Por conveniencia se traduciran todas las etiquetas y variables a idioma espanol."
   ]
  },
  {
   "cell_type": "markdown",
   "metadata": {},
   "source": [
    "DESCRIPCION DE LAS VARIABLES:\n",
    "    \n",
    "    Sobrevivencia   Sobrevivencia (0 = No; 1 = Si) \n",
    "    Clase           Clase del Pasajero\n",
    "                    (1 = 1ra; 2 = 2da; 3 = 3ra)\n",
    "    Nombre          Nombre\n",
    "    Sexo            Sexo\n",
    "    Edad            Edad\n",
    "    Sibsp           Numero de Hijos/Esposos Abordo\n",
    "    Parch           Numero de Padres/Ninos Abordo\n",
    "    Boleto          Numero del Boleto\n",
    "    Tarifa          Tarifa del Pasajero\n",
    "    Cabina          Cabina\n",
    "    Embarco         Puerto Donde Emabarco\n",
    "                    (C = Cherbourg; Q = Queenstown; S = Southampton)\n",
    "\n",
    "NOTAS ESPECIALES:\n",
    "\n",
    "    Clase es un aproximado de su estado socio economico (SES)\n",
    "     1st ~ Alta; 2nd ~ Media; 3rd ~ Baja\n",
    "\n",
    "    La Edad esta en anios; Es fraccional si la edad es menor a uno (1)\n",
    "     Si la edad es estimada, estara en la forma xx.5"
   ]
  },
  {
   "cell_type": "code",
   "execution_count": 2,
   "metadata": {
    "collapsed": false
   },
   "outputs": [],
   "source": [
    "#Importamos todas las librerias que necesitamos para analisis y visualizacion\n",
    "import numpy as np\n",
    "import matplotlib.pyplot as plt\n",
    "import seaborn as sns\n",
    "import pandas as pd\n",
    "from pandas import Series, DataFrame\n",
    "\n",
    "%matplotlib inline"
   ]
  },
  {
   "cell_type": "code",
   "execution_count": 3,
   "metadata": {
    "collapsed": true
   },
   "outputs": [],
   "source": [
    "#Cargamos los datos a un DataFrame\n",
    "titanic_df = pd.read_csv('train_titanic.csv')"
   ]
  },
  {
   "cell_type": "code",
   "execution_count": 4,
   "metadata": {
    "collapsed": false
   },
   "outputs": [
    {
     "data": {
      "text/html": [
       "<div>\n",
       "<table border=\"1\" class=\"dataframe\">\n",
       "  <thead>\n",
       "    <tr style=\"text-align: right;\">\n",
       "      <th></th>\n",
       "      <th>PassengerId</th>\n",
       "      <th>Survived</th>\n",
       "      <th>Pclass</th>\n",
       "      <th>Name</th>\n",
       "      <th>Sex</th>\n",
       "      <th>Age</th>\n",
       "      <th>SibSp</th>\n",
       "      <th>Parch</th>\n",
       "      <th>Ticket</th>\n",
       "      <th>Fare</th>\n",
       "      <th>Cabin</th>\n",
       "      <th>Embarked</th>\n",
       "    </tr>\n",
       "  </thead>\n",
       "  <tbody>\n",
       "    <tr>\n",
       "      <th>0</th>\n",
       "      <td>1</td>\n",
       "      <td>0</td>\n",
       "      <td>3</td>\n",
       "      <td>Braund, Mr. Owen Harris</td>\n",
       "      <td>male</td>\n",
       "      <td>22.0</td>\n",
       "      <td>1</td>\n",
       "      <td>0</td>\n",
       "      <td>A/5 21171</td>\n",
       "      <td>7.2500</td>\n",
       "      <td>NaN</td>\n",
       "      <td>S</td>\n",
       "    </tr>\n",
       "    <tr>\n",
       "      <th>1</th>\n",
       "      <td>2</td>\n",
       "      <td>1</td>\n",
       "      <td>1</td>\n",
       "      <td>Cumings, Mrs. John Bradley (Florence Briggs Th...</td>\n",
       "      <td>female</td>\n",
       "      <td>38.0</td>\n",
       "      <td>1</td>\n",
       "      <td>0</td>\n",
       "      <td>PC 17599</td>\n",
       "      <td>71.2833</td>\n",
       "      <td>C85</td>\n",
       "      <td>C</td>\n",
       "    </tr>\n",
       "    <tr>\n",
       "      <th>2</th>\n",
       "      <td>3</td>\n",
       "      <td>1</td>\n",
       "      <td>3</td>\n",
       "      <td>Heikkinen, Miss. Laina</td>\n",
       "      <td>female</td>\n",
       "      <td>26.0</td>\n",
       "      <td>0</td>\n",
       "      <td>0</td>\n",
       "      <td>STON/O2. 3101282</td>\n",
       "      <td>7.9250</td>\n",
       "      <td>NaN</td>\n",
       "      <td>S</td>\n",
       "    </tr>\n",
       "    <tr>\n",
       "      <th>3</th>\n",
       "      <td>4</td>\n",
       "      <td>1</td>\n",
       "      <td>1</td>\n",
       "      <td>Futrelle, Mrs. Jacques Heath (Lily May Peel)</td>\n",
       "      <td>female</td>\n",
       "      <td>35.0</td>\n",
       "      <td>1</td>\n",
       "      <td>0</td>\n",
       "      <td>113803</td>\n",
       "      <td>53.1000</td>\n",
       "      <td>C123</td>\n",
       "      <td>S</td>\n",
       "    </tr>\n",
       "    <tr>\n",
       "      <th>4</th>\n",
       "      <td>5</td>\n",
       "      <td>0</td>\n",
       "      <td>3</td>\n",
       "      <td>Allen, Mr. William Henry</td>\n",
       "      <td>male</td>\n",
       "      <td>35.0</td>\n",
       "      <td>0</td>\n",
       "      <td>0</td>\n",
       "      <td>373450</td>\n",
       "      <td>8.0500</td>\n",
       "      <td>NaN</td>\n",
       "      <td>S</td>\n",
       "    </tr>\n",
       "    <tr>\n",
       "      <th>5</th>\n",
       "      <td>6</td>\n",
       "      <td>0</td>\n",
       "      <td>3</td>\n",
       "      <td>Moran, Mr. James</td>\n",
       "      <td>male</td>\n",
       "      <td>NaN</td>\n",
       "      <td>0</td>\n",
       "      <td>0</td>\n",
       "      <td>330877</td>\n",
       "      <td>8.4583</td>\n",
       "      <td>NaN</td>\n",
       "      <td>Q</td>\n",
       "    </tr>\n",
       "    <tr>\n",
       "      <th>6</th>\n",
       "      <td>7</td>\n",
       "      <td>0</td>\n",
       "      <td>1</td>\n",
       "      <td>McCarthy, Mr. Timothy J</td>\n",
       "      <td>male</td>\n",
       "      <td>54.0</td>\n",
       "      <td>0</td>\n",
       "      <td>0</td>\n",
       "      <td>17463</td>\n",
       "      <td>51.8625</td>\n",
       "      <td>E46</td>\n",
       "      <td>S</td>\n",
       "    </tr>\n",
       "    <tr>\n",
       "      <th>7</th>\n",
       "      <td>8</td>\n",
       "      <td>0</td>\n",
       "      <td>3</td>\n",
       "      <td>Palsson, Master. Gosta Leonard</td>\n",
       "      <td>male</td>\n",
       "      <td>2.0</td>\n",
       "      <td>3</td>\n",
       "      <td>1</td>\n",
       "      <td>349909</td>\n",
       "      <td>21.0750</td>\n",
       "      <td>NaN</td>\n",
       "      <td>S</td>\n",
       "    </tr>\n",
       "    <tr>\n",
       "      <th>8</th>\n",
       "      <td>9</td>\n",
       "      <td>1</td>\n",
       "      <td>3</td>\n",
       "      <td>Johnson, Mrs. Oscar W (Elisabeth Vilhelmina Berg)</td>\n",
       "      <td>female</td>\n",
       "      <td>27.0</td>\n",
       "      <td>0</td>\n",
       "      <td>2</td>\n",
       "      <td>347742</td>\n",
       "      <td>11.1333</td>\n",
       "      <td>NaN</td>\n",
       "      <td>S</td>\n",
       "    </tr>\n",
       "    <tr>\n",
       "      <th>9</th>\n",
       "      <td>10</td>\n",
       "      <td>1</td>\n",
       "      <td>2</td>\n",
       "      <td>Nasser, Mrs. Nicholas (Adele Achem)</td>\n",
       "      <td>female</td>\n",
       "      <td>14.0</td>\n",
       "      <td>1</td>\n",
       "      <td>0</td>\n",
       "      <td>237736</td>\n",
       "      <td>30.0708</td>\n",
       "      <td>NaN</td>\n",
       "      <td>C</td>\n",
       "    </tr>\n",
       "  </tbody>\n",
       "</table>\n",
       "</div>"
      ],
      "text/plain": [
       "   PassengerId  Survived  Pclass  \\\n",
       "0            1         0       3   \n",
       "1            2         1       1   \n",
       "2            3         1       3   \n",
       "3            4         1       1   \n",
       "4            5         0       3   \n",
       "5            6         0       3   \n",
       "6            7         0       1   \n",
       "7            8         0       3   \n",
       "8            9         1       3   \n",
       "9           10         1       2   \n",
       "\n",
       "                                                Name     Sex   Age  SibSp  \\\n",
       "0                            Braund, Mr. Owen Harris    male  22.0      1   \n",
       "1  Cumings, Mrs. John Bradley (Florence Briggs Th...  female  38.0      1   \n",
       "2                             Heikkinen, Miss. Laina  female  26.0      0   \n",
       "3       Futrelle, Mrs. Jacques Heath (Lily May Peel)  female  35.0      1   \n",
       "4                           Allen, Mr. William Henry    male  35.0      0   \n",
       "5                                   Moran, Mr. James    male   NaN      0   \n",
       "6                            McCarthy, Mr. Timothy J    male  54.0      0   \n",
       "7                     Palsson, Master. Gosta Leonard    male   2.0      3   \n",
       "8  Johnson, Mrs. Oscar W (Elisabeth Vilhelmina Berg)  female  27.0      0   \n",
       "9                Nasser, Mrs. Nicholas (Adele Achem)  female  14.0      1   \n",
       "\n",
       "   Parch            Ticket     Fare Cabin Embarked  \n",
       "0      0         A/5 21171   7.2500   NaN        S  \n",
       "1      0          PC 17599  71.2833   C85        C  \n",
       "2      0  STON/O2. 3101282   7.9250   NaN        S  \n",
       "3      0            113803  53.1000  C123        S  \n",
       "4      0            373450   8.0500   NaN        S  \n",
       "5      0            330877   8.4583   NaN        Q  \n",
       "6      0             17463  51.8625   E46        S  \n",
       "7      1            349909  21.0750   NaN        S  \n",
       "8      2            347742  11.1333   NaN        S  \n",
       "9      0            237736  30.0708   NaN        C  "
      ]
     },
     "execution_count": 4,
     "metadata": {},
     "output_type": "execute_result"
    }
   ],
   "source": [
    "#Demos una vista a nuestros datos\n",
    "titanic_df.head(10)"
   ]
  },
  {
   "cell_type": "code",
   "execution_count": null,
   "metadata": {
    "collapsed": false
   },
   "outputs": [],
   "source": [
    "#Obtendremos informacion general de nuestros datos\n",
    "titanic_df.info()"
   ]
  },
  {
   "cell_type": "markdown",
   "metadata": {},
   "source": [
    "##### Podemos observar que en la columna Age y Cabin existen valores nulos, debido a la falta significativa de datos en Cabin, solo limpiaremos la columna Age"
   ]
  },
  {
   "cell_type": "code",
   "execution_count": null,
   "metadata": {
    "collapsed": false
   },
   "outputs": [],
   "source": [
    "#Sustituimos los valores nulos con la mediana\n",
    "index = titanic_df['Age'].isnull()\n",
    "edadMedia = titanic_df['Age'].median()\n",
    "titanic_df.loc[index, 'Age'] = edadMedia"
   ]
  },
  {
   "cell_type": "code",
   "execution_count": null,
   "metadata": {
    "collapsed": false
   },
   "outputs": [],
   "source": [
    "#Checamos la transformacion de nuestros dat-os\n",
    "titanic_df.head(10)"
   ]
  },
  {
   "cell_type": "markdown",
   "metadata": {},
   "source": [
    "## Para entender mejor el problema, resolvamos las siguientes preguntas:\n",
    "    1.) Quienes eran los pasajeros del Titanic? (Edad,Genero,Clase,..etc)\n",
    "    2.) En que cubierta estaban los pasajeros?\n",
    "    3.) De donde vienen los pasajeros?\n",
    "    4.) Quien estaba solo y quienes tenian familia?\n",
    "    5.) Que factores ayudaron a sobrevivir del hundimiento?"
   ]
  },
  {
   "cell_type": "markdown",
   "metadata": {},
   "source": [
    "### 1.) Quienes eran los pasajeros del Titanic? (Edad,Genero,Clase,..etc)"
   ]
  },
  {
   "cell_type": "code",
   "execution_count": null,
   "metadata": {
    "collapsed": false
   },
   "outputs": [],
   "source": [
    "#Chequemos el genero\n",
    "g = sns.factorplot('Sex',data=titanic_df, kind='count', palette='Dark2', size=5, aspect=.8)\n",
    "(g.set_axis_labels(\"\", \"Cantidad\")\n",
    ".set_xticklabels([\"Hombre\",\"Mujer\"]))"
   ]
  },
  {
   "cell_type": "code",
   "execution_count": null,
   "metadata": {
    "collapsed": false
   },
   "outputs": [],
   "source": [
    "#Separemos el genero por clases\n",
    "g = sns.factorplot('Pclass', data=titanic_df,hue='Sex',kind='count', palette='Dark2', size=5)\n",
    "(g.set_axis_labels(\"Clase\", \"Cantidad\")\n",
    ".set_xticklabels([\"Primera\",\"Segunda\",\"Tercera\"]))"
   ]
  },
  {
   "cell_type": "markdown",
   "metadata": {},
   "source": [
    "Un descubrimiento interesante que podemos observar es que hay muchos mas hombres en 3ra clase que mujeres, en relacion a las demas clases. Sin embargo seria util separarlos entre mujeres, hombres y niños."
   ]
  },
  {
   "cell_type": "code",
   "execution_count": null,
   "metadata": {
    "collapsed": true
   },
   "outputs": [],
   "source": [
    "#Creamos una funcion para determinar si son niños o no (Asumiremos que menores de 16 años son niños)\n",
    "def type_passenger(passenger):\n",
    "    age,sex = passenger\n",
    "    if age < 16:\n",
    "        return 'child'\n",
    "    else:\n",
    "        return sex"
   ]
  },
  {
   "cell_type": "code",
   "execution_count": null,
   "metadata": {
    "collapsed": true
   },
   "outputs": [],
   "source": [
    "#Aplicamos nuestra funcion a una nueva columna\n",
    "titanic_df['TypeP'] = titanic_df[['Age','Sex']].apply(type_passenger,axis=1)"
   ]
  },
  {
   "cell_type": "code",
   "execution_count": null,
   "metadata": {
    "collapsed": false
   },
   "outputs": [],
   "source": [
    "#Demos una vista a nustros datos\n",
    "titanic_df.head(10)"
   ]
  },
  {
   "cell_type": "markdown",
   "metadata": {},
   "source": [
    "Perfecto! Hemos separado a los pasajeros entre niños, mujeres y hombres."
   ]
  },
  {
   "cell_type": "code",
   "execution_count": null,
   "metadata": {
    "collapsed": false
   },
   "outputs": [],
   "source": [
    "#Ahora grafiquemos agrupandolo por tipo de persona\n",
    "g = sns.factorplot('Pclass', data=titanic_df, hue='TypeP', kind='count', palette='Dark2', size=5)\n",
    "(g.set_axis_labels(\"Clase\", \"Cantidad\")\n",
    ".set_xticklabels([\"Primera\",\"Segunda\",\"Tercera\"]))"
   ]
  },
  {
   "cell_type": "markdown",
   "metadata": {},
   "source": [
    "Se puede observar que hay bantantes niños en 3ra clase y muy pocos en 1ra. \n",
    "\n",
    "A continuacion crearemos distribuciones de edades para conocer mas informacion acerca de los pasajeros."
   ]
  },
  {
   "cell_type": "code",
   "execution_count": null,
   "metadata": {
    "collapsed": false
   },
   "outputs": [],
   "source": [
    "sns.distplot(titanic_df['Age'], kde=False, color='g', bins=8)"
   ]
  },
  {
   "cell_type": "code",
   "execution_count": null,
   "metadata": {
    "collapsed": false
   },
   "outputs": [],
   "source": [
    "#Obtenemos una comparasion general entre niños, mujeres y hombres\n",
    "titanic_df['TypeP'].value_counts()"
   ]
  },
  {
   "cell_type": "code",
   "execution_count": null,
   "metadata": {
    "collapsed": false
   },
   "outputs": [],
   "source": [
    "#Otra manera de visualizar los datos es graficando los KDE (Calculando la Funcion de Densidad de Probablidad) \n",
    "#en una misma grafica\n",
    "fig = sns.FacetGrid(titanic_df, hue='Sex', aspect=4, palette='Dark2')\n",
    "fig.map(sns.kdeplot,'Age', shade=True)\n",
    "oldest = titanic_df['Age'].max()\n",
    "fig.set(xlim=(0,oldest))\n",
    "fig.add_legend()"
   ]
  },
  {
   "cell_type": "code",
   "execution_count": null,
   "metadata": {
    "collapsed": false
   },
   "outputs": [],
   "source": [
    "#Ahora usamos Tipo de Persona\n",
    "fig = sns.FacetGrid(titanic_df, hue='TypeP', aspect=4, palette='Dark2')\n",
    "fig.map(sns.kdeplot,'Age', shade=True)\n",
    "oldest = titanic_df['Age'].max()\n",
    "fig.set(xlim=(0,oldest))\n",
    "fig.add_legend()"
   ]
  },
  {
   "cell_type": "code",
   "execution_count": null,
   "metadata": {
    "collapsed": false
   },
   "outputs": [],
   "source": [
    "#Ahora por clase\n",
    "fig = sns.FacetGrid(titanic_df, hue='Pclass', aspect=4, palette='Dark2')\n",
    "fig.map(sns.kdeplot,'Age', shade=True)\n",
    "oldest = titanic_df['Age'].max()\n",
    "fig.set(xlim=(0,oldest))\n",
    "fig.add_legend()"
   ]
  },
  {
   "cell_type": "markdown",
   "metadata": {},
   "source": [
    "Obtuvimos bastante informacion acerca de como eran los pasajeros basados en su genero, edad y clase."
   ]
  },
  {
   "cell_type": "markdown",
   "metadata": {},
   "source": [
    "### 2.) En que cubierta estaban los pasajeros?"
   ]
  },
  {
   "cell_type": "code",
   "execution_count": null,
   "metadata": {
    "collapsed": false
   },
   "outputs": [],
   "source": [
    "#Volvemos a observar nuestros datos\n",
    "titanic_df.head()"
   ]
  },
  {
   "cell_type": "markdown",
   "metadata": {},
   "source": [
    "Solo necesitamos la primera letra de la cubierta para clasificar su nivel (ej. A,B,C,D,E,F,G)"
   ]
  },
  {
   "cell_type": "code",
   "execution_count": null,
   "metadata": {
    "collapsed": false
   },
   "outputs": [],
   "source": [
    "#Creamos una nueva columna con el formato deseado\n",
    "titanic_df['Deck'] = titanic_df['Cabin'][titanic_df['Cabin'].notnull()].astype(str).map(lambda x: x[0])"
   ]
  },
  {
   "cell_type": "code",
   "execution_count": null,
   "metadata": {
    "collapsed": false
   },
   "outputs": [],
   "source": [
    "titanic_df.head()"
   ]
  },
  {
   "cell_type": "code",
   "execution_count": null,
   "metadata": {
    "collapsed": false
   },
   "outputs": [],
   "source": [
    "sns.factorplot('Deck', data=titanic_df, palette='bone', kind='count', size=5)"
   ]
  },
  {
   "cell_type": "code",
   "execution_count": null,
   "metadata": {
    "collapsed": false
   },
   "outputs": [],
   "source": [
    "#Eliminamos los datos de la cubierta \"T\" que no hacen sentido a nuestro conjunto de datos\n",
    "titanic_df['Deck'].loc[titanic_df['Deck'] == 'T'] = np.NaN\n",
    "sns.factorplot('Deck', data=titanic_df, palette='bone', kind='count', order=['A','B','C','D','E','F','G'], size=5)"
   ]
  },
  {
   "cell_type": "markdown",
   "metadata": {},
   "source": [
    "Muy bien, ahora conocemos la distribucion de los pasajeros. Hay que recordar que solo tenemos 204 valores de los 890 pasajeros."
   ]
  },
  {
   "cell_type": "markdown",
   "metadata": {},
   "source": [
    "### 3.) De donde vienen los pasajeros?"
   ]
  },
  {
   "cell_type": "code",
   "execution_count": null,
   "metadata": {
    "collapsed": false
   },
   "outputs": [],
   "source": [
    "titanic_df.head()"
   ]
  },
  {
   "cell_type": "markdown",
   "metadata": {},
   "source": [
    "Nota: La columna Embarcado tiene tres valores C,Q y S. Estos hacen referencia a Cherbourg, Queenstown, Southhampton."
   ]
  },
  {
   "cell_type": "code",
   "execution_count": null,
   "metadata": {
    "collapsed": false
   },
   "outputs": [],
   "source": [
    "sns.factorplot('Embarked', data=titanic_df, hue='Pclass',order=['C','Q','S'], kind='count', palette='Dark2', size=5)"
   ]
  },
  {
   "cell_type": "markdown",
   "metadata": {},
   "source": [
    "Un hallazgo interesante es que en Queenstown, casi todo los pasajeros que abordaron son de tercera clase. Podria ser interesante investigar la razon de este suceso, quiza la economia de ese lugar en ese periodo de tiempo.\n",
    "\n",
    "Tambien podemos visualizar los datos de la siguiente forma para conocer la distribucion de sus edades respecto a su clase y Embarque"
   ]
  },
  {
   "cell_type": "code",
   "execution_count": null,
   "metadata": {
    "collapsed": false
   },
   "outputs": [],
   "source": [
    "sns.factorplot(x='Age', y='Embarked', hue='Sex', row='Pclass',data=titanic_df[titanic_df.Embarked.notnull()],\n",
    "                orient=\"h\", size=2, aspect=3.5, palette=\"Dark2\",kind=\"violin\", split=True, cut=0, bw=.2)"
   ]
  },
  {
   "cell_type": "markdown",
   "metadata": {},
   "source": [
    "### 4.) Quien estaba solo y quienes tenian familia?"
   ]
  },
  {
   "cell_type": "markdown",
   "metadata": {},
   "source": [
    "Para determinar si una persona esta sola o no, sumaremos los campos de los familiares."
   ]
  },
  {
   "cell_type": "code",
   "execution_count": null,
   "metadata": {
    "collapsed": true
   },
   "outputs": [],
   "source": [
    "#Agregamos una nueva columna para definir quienes estan solos\n",
    "titanic_df['Alone'] = titanic_df.Parch + titanic_df.SibSp"
   ]
  },
  {
   "cell_type": "code",
   "execution_count": null,
   "metadata": {
    "collapsed": false
   },
   "outputs": [],
   "source": [
    "#Asignamos valores\n",
    "titanic_df['Alone'].loc[titanic_df['Alone'] > 0] = 'With Family'\n",
    "titanic_df['Alone'].loc[titanic_df['Alone'] == 0] = 'Alone'"
   ]
  },
  {
   "cell_type": "code",
   "execution_count": null,
   "metadata": {
    "collapsed": false
   },
   "outputs": [],
   "source": [
    "titanic_df.head()"
   ]
  },
  {
   "cell_type": "code",
   "execution_count": null,
   "metadata": {
    "collapsed": false,
    "scrolled": true
   },
   "outputs": [],
   "source": [
    "#Ahora grafiquemos nuestros datos\n",
    "sns.factorplot('Alone',data=titanic_df, kind='count', palette='Dark2',size=5)"
   ]
  },
  {
   "cell_type": "markdown",
   "metadata": {},
   "source": [
    "Podemos observar que la mayoria de los pasajeros estaban solos"
   ]
  },
  {
   "cell_type": "markdown",
   "metadata": {},
   "source": [
    "### 5.) Que factores ayudaron a sobrevivir del hundimiento?"
   ]
  },
  {
   "cell_type": "markdown",
   "metadata": {},
   "source": [
    "Primero hay que determinar cuantos pasajeros fallecieron"
   ]
  },
  {
   "cell_type": "code",
   "execution_count": null,
   "metadata": {
    "collapsed": false
   },
   "outputs": [],
   "source": [
    "#Creamos una nueva columna con el proposito de que sea legible\n",
    "titanic_df['Survivor'] = titanic_df.Survived.map({0: 'No', 1: 'Yes'})\n",
    "\n",
    "#Graficamos el numero de personas que sobrevivieron\n",
    "sns.factorplot('Survivor',data=titanic_df, palette='Set1', kind='count', size=5)"
   ]
  },
  {
   "cell_type": "markdown",
   "metadata": {},
   "source": [
    "Podemos observar que hubo mas fallecidos que supervivientes.\n",
    "\n",
    "Veamos si la clase de los pasajeros tiene un efecto en su tasa de supervivencia."
   ]
  },
  {
   "cell_type": "code",
   "execution_count": null,
   "metadata": {
    "collapsed": false
   },
   "outputs": [],
   "source": [
    "#Graficamos considerando la clase\n",
    "sns.factorplot('Pclass', 'Survived', data=titanic_df, size=5)"
   ]
  },
  {
   "cell_type": "markdown",
   "metadata": {},
   "source": [
    "La tasa de supervivencia de la 3ra clase es substancialmente baja. Pero posiblemente este efecto es causado por el gran numero de hombres en la 3ra clase. Agregaremos a nuestra grafica la clasificacion de las personas para determinar si eran niños, mujeres u hombres."
   ]
  },
  {
   "cell_type": "code",
   "execution_count": null,
   "metadata": {
    "collapsed": false
   },
   "outputs": [],
   "source": [
    "#Graficamos considerando la clase y tipo de persona\n",
    "sns.factorplot('Pclass', 'Survived',hue='TypeP', data=titanic_df, palette='Dark2', size=5)"
   ]
  },
  {
   "cell_type": "markdown",
   "metadata": {},
   "source": [
    "De estos datos podemos observar que ser hombre o pertenecer a la 3ra clase no son favorables para la sobrevivencia. Incluso sin tener en cuenta la clase, el hecho de ser hombre disminuye dramaticamente las probabilidades de sobrevivir.\n",
    "\n",
    "Que hay de la edad? Ser mas joven o viejo tiene un efecto en la tasa de supervivencia?"
   ]
  },
  {
   "cell_type": "code",
   "execution_count": null,
   "metadata": {
    "collapsed": false
   },
   "outputs": [],
   "source": [
    "#Usemos una grafica lineal para representar la edad contra la sobrevivencia\n",
    "sns.lmplot('Age', 'Survived', data=titanic_df, palette='Set1', size=5)"
   ]
  },
  {
   "cell_type": "markdown",
   "metadata": {},
   "source": [
    "La tendencia general es que entre mas viejo fuera el pasajero, es menos probable que sobreviviera.\n",
    "\n",
    "Agregaremos mas parametros para determinar si la clase tiene un efecto en la tasa de sobrevivencia."
   ]
  },
  {
   "cell_type": "code",
   "execution_count": null,
   "metadata": {
    "collapsed": false
   },
   "outputs": [],
   "source": [
    "#Separamos la grafica por clases\n",
    "sns.lmplot('Age', 'Survived', data=titanic_df, hue='Pclass', palette='Dark2', size=5)"
   ]
  },
  {
   "cell_type": "code",
   "execution_count": null,
   "metadata": {
    "collapsed": false
   },
   "outputs": [],
   "source": [
    "#Usaremos rangos para obtener una visualizacion mas limpia\n",
    "generations=[10,20,40,60,80]\n",
    "sns.lmplot('Age','Survived',hue='Pclass',data=titanic_df,palette='Dark2',x_bins=generations, size=5)"
   ]
  },
  {
   "cell_type": "markdown",
   "metadata": {},
   "source": [
    "Algo interesante a destacar es que las personas mas viejas de 1ra clase tengan una desviacion estandar tan alta.\n",
    "\n",
    "A continuacion relacionaremos el genero y la edad."
   ]
  },
  {
   "cell_type": "code",
   "execution_count": null,
   "metadata": {
    "collapsed": false
   },
   "outputs": [],
   "source": [
    "#Ahora separamos la grafica por sexos\n",
    "sns.lmplot('Age', 'Survived', hue='Sex', data=titanic_df, palette='Dark2', x_bins=generations, size=5)"
   ]
  },
  {
   "cell_type": "markdown",
   "metadata": {},
   "source": [
    "La tendencia nos muestra que ser mujer de mayor edad aumentaba las probabilidades de sobrevivir, por el contrario ser hombre dismuniye las probabilidades de sobrevivir, sin embargo como vimos en un caso anterior, las personas de mayor edad tienen una desviacion estandar alta.\n",
    "\n",
    "Podriamos preguntarnos si las cubiertas tienen algun efecto en la tasa de supervivencia?"
   ]
  },
  {
   "cell_type": "code",
   "execution_count": null,
   "metadata": {
    "collapsed": false
   },
   "outputs": [],
   "source": [
    "#Graficamos el numero de supervivientes por Cubierta\n",
    "sns.factorplot('Deck',data=titanic_df,hue='Survivor',kind='count',\n",
    "               order=['A','B','C','D','E','F','G'],palette='Dark2', hue_order=['Yes','No'])"
   ]
  },
  {
   "cell_type": "code",
   "execution_count": null,
   "metadata": {
    "collapsed": false
   },
   "outputs": [],
   "source": [
    "sns.factorplot('Deck', 'Survived',data=titanic_df,\n",
    "               order=['A','B','C','D','E','F','G'],palette='Dark2')"
   ]
  },
  {
   "cell_type": "markdown",
   "metadata": {},
   "source": [
    "Podriamos pensar que las cubiertas B, D y E tienen la tasa mas alta de supervivencia, pero recordemos que no tenemos todos los datos de los pasajeros. Como mencionamos anteriormente solo tenemos 204 valores de los 890.\n",
    "\n",
    "Revisemos un poco mas a detalle esos datos, por ejemplo a que clase pertenecen?"
   ]
  },
  {
   "cell_type": "code",
   "execution_count": null,
   "metadata": {
    "collapsed": false
   },
   "outputs": [],
   "source": [
    "sns.factorplot(y='Deck',data=titanic_df,hue='Pclass',kind='count',\n",
    "               order=['A','B','C','D','E','F','G'],palette='Dark2')"
   ]
  },
  {
   "cell_type": "markdown",
   "metadata": {},
   "source": [
    "A simple vista se puede ver que hay mucho mas datos de 1ra clase que de las demas, investiguemos un poco mas."
   ]
  },
  {
   "cell_type": "code",
   "execution_count": null,
   "metadata": {
    "collapsed": false
   },
   "outputs": [],
   "source": [
    "#Agrupemos nuestros datos para determinar la cantidad de datos de cabina que tenemos por clase\n",
    "datos_df = titanic_df.groupby('Pclass')['Deck'].value_counts(normalize=True).reset_index().groupby('Pclass')  \\\n",
    ".sum().reset_index(level=0)\n",
    "datos_df.columns = ['Pclass', 'Data']\n",
    "datos_df['Total'] = 1"
   ]
  },
  {
   "cell_type": "code",
   "execution_count": null,
   "metadata": {
    "collapsed": false
   },
   "outputs": [],
   "source": [
    "#Ahora graficamos\n",
    "f, ax = plt.subplots()\n",
    "sns.barplot('Total', 'Pclass',  data=datos_df, color='grey', orient='h', label='Total')\n",
    "sns.barplot('Data', 'Pclass',  data=datos_df, palette='Set2', orient='h', label='Datos')\n",
    "ax.set(xlim=(0, 1), ylabel=\"Clase\", xlabel=\"Datos Obtenidos\")"
   ]
  },
  {
   "cell_type": "markdown",
   "metadata": {},
   "source": [
    "Claramente podemos observar que tenemos un poco mas del 80% de los datos de 1ra clase, mientras que para las demas clases los datos obtenidos no alcanza el 20%, por lo tanto no es posible hacer una conclusion sobre el efecto que tuvieron las cubiertas.\n",
    "\n",
    "Por ultimo revisemos si estar solo tenia un efecto en la tasa de superviencia."
   ]
  },
  {
   "cell_type": "code",
   "execution_count": null,
   "metadata": {
    "collapsed": false
   },
   "outputs": [],
   "source": [
    "#Agrupemos por sexo\n",
    "sns.factorplot('Alone', 'Survived', hue='TypeP', data=titanic_df, palette='Dark2', size=5)"
   ]
  },
  {
   "cell_type": "markdown",
   "metadata": {},
   "source": [
    "Observamos que los hombres tenian un ligera mejor posibilidad de sobrevivir si tenian familia, por el contrario las mujeres muestran una tendencia opuesta. El sexo sigue siendo un factor determinante para decidir si sobrevive o no el pasajero."
   ]
  },
  {
   "cell_type": "code",
   "execution_count": null,
   "metadata": {
    "collapsed": false
   },
   "outputs": [],
   "source": [
    "#Agrupemos por clase\n",
    "sns.factorplot('Alone', 'Survived', hue='Pclass', data=titanic_df, palette='Dark2', size=5)"
   ]
  },
  {
   "cell_type": "markdown",
   "metadata": {},
   "source": [
    "Podemos observar que la clase sigue influyendo significativamente en la tasa de supervivencia y tambien que estar solo disminuye ligeramente las probabilidades de sobrevivir.\n",
    "\n",
    "En conclusion podemos decir que los factores que mas influyeron significativamente en la supervivencia de los pasajeros, fueron el sexo, la clase y edad, mientras que la cantidad de familiares o donde embarcaron afectan en menor medida.\n",
    "\n",
    "### Machine Learning\n",
    "\n",
    "Usemos el algoritmo random forest para hacer predicciones, determinar su precision y caracteriticas mas relevantes"
   ]
  },
  {
   "cell_type": "code",
   "execution_count": null,
   "metadata": {
    "collapsed": false
   },
   "outputs": [],
   "source": [
    "#Observamos nuestros datos\n",
    "titanic_df.head()"
   ]
  },
  {
   "cell_type": "code",
   "execution_count": null,
   "metadata": {
    "collapsed": false
   },
   "outputs": [],
   "source": [
    "#Seleecionamos las caracteristicas que usaremos en nuestro modelo\n",
    "features = ['Survived','Pclass','TypeP','Age','Embarked','Alone']\n",
    "train = titanic_df[features]\n",
    "train.head(10)"
   ]
  },
  {
   "cell_type": "code",
   "execution_count": null,
   "metadata": {
    "collapsed": false
   },
   "outputs": [],
   "source": [
    "#Checamos que no existan nulos\n",
    "train.info()"
   ]
  },
  {
   "cell_type": "code",
   "execution_count": null,
   "metadata": {
    "collapsed": false
   },
   "outputs": [],
   "source": [
    "#Retiramos los valores nulos\n",
    "train.dropna(inplace=True)"
   ]
  },
  {
   "cell_type": "code",
   "execution_count": null,
   "metadata": {
    "collapsed": false
   },
   "outputs": [],
   "source": [
    "#Agregamos imports necesarios\n",
    "import sklearn.ensemble as ske\n",
    "from patsy import dmatrices\n",
    "\n",
    "#Creamos una formula para la matriz de diseño de nuestro modelo\n",
    "#l = [3,2,1]\n",
    "formula = 'Survived ~ C(Pclass) + C(TypeP) + Age + C(Embarked) + C(Alone)'"
   ]
  },
  {
   "cell_type": "code",
   "execution_count": null,
   "metadata": {
    "collapsed": false
   },
   "outputs": [],
   "source": [
    "#Creamos las matrices de diseño\n",
    "y, x = dmatrices(formula, data=train, return_type='dataframe')\n",
    "y = np.asarray(y).ravel()\n",
    "\n",
    "#Creamos nuestro random forest\n",
    "results_rf2 = ske.RandomForestClassifier(n_estimators=100).fit(x,y)\n",
    "\n",
    "#Obtenemos la puntuacion de presicion y caracteristicas\n",
    "score = results_rf2.score(x,y)\n",
    "importances = results_rf2.feature_importances_"
   ]
  },
  {
   "cell_type": "code",
   "execution_count": null,
   "metadata": {
    "collapsed": false
   },
   "outputs": [],
   "source": [
    "x.head()"
   ]
  },
  {
   "cell_type": "code",
   "execution_count": null,
   "metadata": {
    "collapsed": false
   },
   "outputs": [],
   "source": [
    "#agrupamos para darle un mejor estilo a la grafica\n",
    "groupImportances = [importances[1:3].sum(), importances[3:5].sum(), importances[5:7].sum(), importances[7], importances[8]]\n",
    "d = {'Feature': Series(['Pclass','TypeP', 'Embarked', 'Alone', 'Age']),\n",
    "    'Values': Series(groupImportances)}\n",
    "importances_df = DataFrame(d).sort_values(by='Values', ascending=False)"
   ]
  },
  {
   "cell_type": "code",
   "execution_count": null,
   "metadata": {
    "collapsed": false
   },
   "outputs": [],
   "source": [
    "#Graficamos las caracteristicas mas importantes\n",
    "sns.barplot('Feature', 'Values',  data=importances_df, palette='Dark2')"
   ]
  },
  {
   "cell_type": "code",
   "execution_count": null,
   "metadata": {
    "collapsed": false
   },
   "outputs": [],
   "source": [
    "print (\"La presicion de las predicciones del Random Forest es: {0}\".format(score))"
   ]
  },
  {
   "cell_type": "markdown",
   "metadata": {},
   "source": [
    "Podemos observar que el comportamiento de nuestro random forest es muy acertado"
   ]
  },
  {
   "cell_type": "code",
   "execution_count": null,
   "metadata": {
    "collapsed": true
   },
   "outputs": [],
   "source": []
  }
 ],
 "metadata": {
  "kernelspec": {
   "display_name": "Python [Root]",
   "language": "python",
   "name": "Python [Root]"
  },
  "language_info": {
   "codemirror_mode": {
    "name": "ipython",
    "version": 2
   },
   "file_extension": ".py",
   "mimetype": "text/x-python",
   "name": "python",
   "nbconvert_exporter": "python",
   "pygments_lexer": "ipython2",
   "version": "2.7.12"
  }
 },
 "nbformat": 4,
 "nbformat_minor": 0
}
